{
  "cells": [
    {
      "cell_type": "markdown",
      "metadata": {
        "id": "view-in-github",
        "colab_type": "text"
      },
      "source": [
        "<a href=\"https://colab.research.google.com/github/lapointe05/m1-miage/blob/maxime_dangelser_td007/M1_MIAGE_TD_007.ipynb\" target=\"_parent\"><img src=\"https://colab.research.google.com/assets/colab-badge.svg\" alt=\"Open In Colab\"/></a>"
      ]
    },
    {
      "cell_type": "markdown",
      "metadata": {
        "id": "597Hu82gSNCZ"
      },
      "source": [
        "<img src=\"https://upload.wikimedia.org/wikipedia/fr/0/0b/Polytech_Lyon_logo.png\" alt=\"drawing\" height=\"200\"/>\n",
        "\n",
        "# Traitement de données & Programmation en Python\n",
        "---\n",
        "\n"
      ]
    },
    {
      "cell_type": "markdown",
      "metadata": {
        "id": "EA-XK862WiMt"
      },
      "source": [
        "# TD 007\n",
        "\n",
        "TD à thème :)\n",
        "\n",
        "\n",
        "![Good luck!](https://media2.giphy.com/media/pF8PQGuxYGpEszkrwx/giphy.gif)\n",
        "\n",
        "\n",
        "[Source du dataset](https://www.kaggle.com/datasets/dreb87/jamesbond)\n",
        "\n",
        "Colonnes :\n",
        "\n",
        "* Year - Release year of the movie.\n",
        "* Movie - The movie title.\n",
        "* Bond - Actor who played James Bond.\n",
        "* Director - Director of the movie.\n",
        "* Composer - Composer of the movie.\n",
        "* Writer - Writer of the movie.\n",
        "* Cinematographer - Cinematographer of the movie.\n",
        "* Depicted_Film_Loc - Depicted location(s) of the movie.\n",
        "* Shooting_Loc - Shooting location(s) of the move.\n",
        "* Bond_Car_MFG - The manufacturer of the bond car.\n",
        "* Bond_Girl_Nat - The nationality of the bond girl(s).\n",
        "* US_Gross - The films U.S gross earnings.\n",
        "* US_Adj: The films U.S gross earnings adjusted based on 2013.\n",
        "* World_Gross - The films worldwide gross earnings.\n",
        "* World_Adj - The films worldwide gross earnings adjusted based on 2013.\n",
        "* Budget - The films budget.\n",
        "* Budget_Adj - The films budget adjust based on 2013.\n",
        "* Film_Length - The length of the movie.\n",
        "* Avg_User_IMDB - The average user rating from IMDB.\n",
        "* Avg_User_Rtn_Tom - The average user rating from Rotten Tomatoes.\n",
        "* Conquests - The number of bond girls in the movie.\n",
        "* Martinis - The number of martinis Bond consumed in the movie.\n",
        "* BJB - The number of times bond stated \"Bond, James Bond.\"\n",
        "* Kills_Bond - The number of people Bond killed.\n",
        "* Kills_Others - The number of people killed by someone other than bond.\n",
        "* Top_100 - A flag where 1 means the movie had Billboard/UK top 100 song, 0 means it didn't.\n",
        "* Video_Game - A flag where 1 means the movie was made into a video game, 0 means it didn't.\n",
        "\n",
        "Elements à consulter:\n",
        "\n",
        "\n",
        "\n",
        "Doc                                   |             Link\n",
        "--------------------------------------|------------------------------------\n",
        "Github Helper      | [>link<](#scrollTo=Github_101)\n",
        "Python en 30 jours | [>link<](https://moncoachdata.com/courses/apprendre-python-en-30-jours/)\n",
        "Get started with pandas | [>link<](https://colab.research.google.com/notebooks/snippets/pandas.ipynb)"
      ]
    },
    {
      "cell_type": "markdown",
      "metadata": {
        "id": "Y1g4EgT41MqJ"
      },
      "source": [
        "## Intro\n",
        "\n",
        "Le premier bloc devrait toujours contenir les installs/imports dont on aura besoin pour le reste"
      ]
    },
    {
      "cell_type": "code",
      "execution_count": null,
      "metadata": {
        "colab": {
          "base_uri": "https://localhost:8080/"
        },
        "id": "yjiE8c51VoT0",
        "outputId": "fa749294-ae9e-4017-a7e1-47502e7f712f"
      },
      "outputs": [
        {
          "output_type": "stream",
          "name": "stdout",
          "text": [
            "Python is awesome 👍\n"
          ]
        }
      ],
      "source": [
        "\n",
        "# Installs\n",
        "# ! pip install packagename\n",
        "print(\"Python is awesome 👍\")"
      ]
    },
    {
      "cell_type": "code",
      "execution_count": null,
      "metadata": {
        "id": "n_jOsgGllUhC"
      },
      "outputs": [],
      "source": [
        "# Imports\n",
        "import pandas as pd\n",
        "import numpy as np\n",
        "pd.set_option('display.max_columns', None)"
      ]
    },
    {
      "cell_type": "markdown",
      "metadata": {
        "id": "SHsrGdy-5AZK"
      },
      "source": [
        "## 007\n",
        "\n",
        "1. Lire le dataset `jamesbond.csv` dans une variable `_007`\n",
        "2. Exploration de données (dans une variable puis afficher):\n",
        "   * Quel est le plus ancien film de 007 ? \n",
        "   * Qui est le plus ancien 007 ?\n",
        "   * Qui à jouer le plus de fois 007 ? (acteur)  \n",
        "3. Quel est le côut moyen de la realisation d'un James Bond ?\n",
        "4. Quels sont les lieux de tournage/représentés les plus populaires 🏝️ ? (En fonction du lieu de tournage réel **ou** de ceux représentés, déterminez les lieux les plus utilisés dans les films **graphiquement**.)\n",
        "5. Quel est la (marque) voiture la/les moins utilisée dans les films de 007 ?\n",
        "6. Calculer le nombre de martinis bus par James Bond par film.\n",
        "7. En prenant en compte le taux d'alcool moyen dans un martini (google) Est ce que James Bond avait le droit de conduire en France?\n",
        "8. Dans quel film James Bond dit ça phrase mythique le plus de fois ?\n",
        "9. Quel James Bond comporte le plus de kill ? (Tout confondu)\n",
        "10. Quel est le James Bond le plus rentable de tous les temps (Côuts/Bénéfices) ?\n",
        "11. Quel film de 007 a coûté le plus cher *par decennie* ? (Decomposez la réponse en deux ou plusieurs parties)\n",
        "12. Representez dans une carte du monde les lieux de tournages par film (la taille de la bulle sera determinée par la popularité du lieu Ref. Question precédente)\n",
        "\n",
        "> Bonus \n",
        "* Quel est le meilleur James Bond de tous les temps ? Trouvez un angle d'approche et de justification (par la data) à votre réponse :)"
      ]
    },
    {
      "cell_type": "code",
      "source": [
        "# Lire le dataset jamesbond.csv dans une variable _007\n",
        "_007 = pd.read_csv(\"jamesbond.csv\")\n",
        "\n",
        "# Vérifier lecture\n",
        "print(_007.head(1))"
      ],
      "metadata": {
        "id": "yUmy-VTa3hgr",
        "colab": {
          "base_uri": "https://localhost:8080/"
        },
        "outputId": "a85a659e-4f42-4087-ebed-8662086dd543"
      },
      "execution_count": null,
      "outputs": [
        {
          "output_type": "stream",
          "name": "stdout",
          "text": [
            "   Year   Movie          Bond       Director      Composer  \\\n",
            "0  1962  Dr. No  Sean Connery  Terence Young  Monty Norman   \n",
            "\n",
            "                                              Writer Cinematographer  \\\n",
            "0  Richard Maibaum, Johanna Harwood & Berkely Mather       Ted Moore   \n",
            "\n",
            "       Depicted_Film_Loc      Shooting_Loc Bond_Car_MFG  \\\n",
            "0  Great Britain, Jamaic  England, Jamaica      Sunbeam   \n",
            "\n",
            "             Bond_Girl_Nat  US_Gross  US_Adj  World_Gross  World_Adj  Budget  \\\n",
            "0  Swiss, English, English  16067035  123517     59567035     457928    1000   \n",
            "\n",
            "   Budget_Adj  Film_Length  Avg_User_IMDB  Avg_User_Rtn_Tom  Conquests  \\\n",
            "0        7688          110            7.3               7.7          3   \n",
            "\n",
            "   Martinis  BJB  Kills_Bond  Kills_Others  Top_100  Video_Game  \n",
            "0         2    1           4             8        0           0  \n"
          ]
        }
      ]
    },
    {
      "cell_type": "code",
      "source": [
        "# Exploration de données (dans une variable puis afficher):\n",
        "#   Quel est le plus ancien film de 007 ?\n",
        "old_movie_007 = _007.loc[_007[\"Year\"].idxmin()]['Movie']\n",
        "print(\"Le plus ancien film : \" + old_movie_007)\n",
        "#   Qui est le plus ancien 007 ?\n",
        "old_actor_007 = _007.loc[_007[\"Year\"].idxmin()]['Bond']\n",
        "print(\"Le plus ancien acteur de James Bond : \" + old_actor_007)\n",
        "\n",
        "#   Qui à jouer le plus de fois 007 ? (acteur)\n",
        "max_actor_007 = _007.loc[_007[\"Bond\"].value_counts().max()]\n",
        "print(\"L'acteur qui a joué le plus de fois est : \" + max_actor_007[\"Bond\"] + f\" avec {max_actor_007.name} films.\")\n",
        "\n"
      ],
      "metadata": {
        "colab": {
          "base_uri": "https://localhost:8080/"
        },
        "id": "6aw0o9YKLs4O",
        "outputId": "80b9c3f9-796d-4de8-c8db-2d549b232ddd"
      },
      "execution_count": null,
      "outputs": [
        {
          "output_type": "stream",
          "name": "stdout",
          "text": [
            "Le plus ancien film : Dr. No\n",
            "Le plus ancien acteur de James Bond : Sean Connery\n",
            "L'acteur qui a joué le plus de fois est : Roger Moore avec 7 films.\n"
          ]
        }
      ]
    },
    {
      "cell_type": "code",
      "source": [
        "# Quel est le côut moyen de la realisation d'un James Bond ?\n",
        "average_cost_007 = round(_007[\"Budget\"].mean(), 2)\n",
        "print(f\"Le coût moyen de réalisation d'un film James Bond est : {average_cost_007} €\")"
      ],
      "metadata": {
        "colab": {
          "base_uri": "https://localhost:8080/"
        },
        "id": "Ba3ZSxp3QiVi",
        "outputId": "b9131ba0-9fb3-4428-e2dc-b4834eacb522"
      },
      "execution_count": null,
      "outputs": [
        {
          "output_type": "stream",
          "name": "stdout",
          "text": [
            "Le coût moyen de réalisation d'un film James Bond est : 62091.67 €\n"
          ]
        }
      ]
    },
    {
      "cell_type": "code",
      "source": [
        "# Quels sont les lieux de tournage/représentés les plus populaires 🏝️ ?\n",
        "# (En fonction du lieu de tournage réel ou de ceux représentés,\n",
        "# déterminez les lieux les plus utilisés dans les films graphiquement.)\n",
        "depicted_film_loc_007 = _007[\"Depicted_Film_Loc\"].apply(lambda x: pd.Series(x.split(\",\"))).stack()\n",
        "depicted_film_loc_reset_007 = depicted_film_loc_007.reset_index()\n",
        "_007_reset = _007.reset_index()\n",
        "\n",
        "temp_007 = pd.merge(depicted_film_loc_reset_007\n",
        "           ,_007_reset\n",
        "           ,left_on = 'level_0'\n",
        "           ,right_on = 'index'\n",
        "           )\n",
        "_007_temp = temp_007\n",
        "test = _007_temp.loc[_007_temp[0].value_counts().max()][0]\n",
        "print(_007_temp)"
      ],
      "metadata": {
        "colab": {
          "base_uri": "https://localhost:8080/"
        },
        "id": "56s4bQR1RlBx",
        "outputId": "288910da-f469-43fa-ad93-aae67ae83519"
      },
      "execution_count": null,
      "outputs": [
        {
          "output_type": "stream",
          "name": "stdout",
          "text": [
            "     level_0  level_1               0  index  Year                  Movie  \\\n",
            "0          0        0   Great Britain      0  1962                 Dr. No   \n",
            "1          0        1          Jamaic      0  1962                 Dr. No   \n",
            "2          1        0  United Kingdom      1  1963  From Russia with Love   \n",
            "3          1        1   Great Britain      1  1963  From Russia with Love   \n",
            "4          1        2          Turkey      1  1963  From Russia with Love   \n",
            "..       ...      ...             ...    ...   ...                    ...   \n",
            "117       23        1         England     23  2015                Spectre   \n",
            "118       23        2           Italy     23  2015                Spectre   \n",
            "119       23        3         Austria     23  2015                Spectre   \n",
            "120       23        4         Morocco     23  2015                Spectre   \n",
            "121       23        5    Vatican City     23  2015                Spectre   \n",
            "\n",
            "             Bond       Director       Composer  \\\n",
            "0    Sean Connery  Terence Young   Monty Norman   \n",
            "1    Sean Connery  Terence Young   Monty Norman   \n",
            "2    Sean Connery  Terence Young     John Barry   \n",
            "3    Sean Connery  Terence Young     John Barry   \n",
            "4    Sean Connery  Terence Young     John Barry   \n",
            "..            ...            ...            ...   \n",
            "117  Daniel Craig     Sam Mendes  Thomas Newman   \n",
            "118  Daniel Craig     Sam Mendes  Thomas Newman   \n",
            "119  Daniel Craig     Sam Mendes  Thomas Newman   \n",
            "120  Daniel Craig     Sam Mendes  Thomas Newman   \n",
            "121  Daniel Craig     Sam Mendes  Thomas Newman   \n",
            "\n",
            "                                                Writer    Cinematographer  \\\n",
            "0    Richard Maibaum, Johanna Harwood & Berkely Mather          Ted Moore   \n",
            "1    Richard Maibaum, Johanna Harwood & Berkely Mather          Ted Moore   \n",
            "2                    Richard Maibaum & Johanna Harwood          Ted Moore   \n",
            "3                    Richard Maibaum & Johanna Harwood          Ted Moore   \n",
            "4                    Richard Maibaum & Johanna Harwood          Ted Moore   \n",
            "..                                                 ...                ...   \n",
            "117  John Logan & Neal Purvis, Robert Wade & Jez Bu...  Hoyte van Hoytema   \n",
            "118  John Logan & Neal Purvis, Robert Wade & Jez Bu...  Hoyte van Hoytema   \n",
            "119  John Logan & Neal Purvis, Robert Wade & Jez Bu...  Hoyte van Hoytema   \n",
            "120  John Logan & Neal Purvis, Robert Wade & Jez Bu...  Hoyte van Hoytema   \n",
            "121  John Logan & Neal Purvis, Robert Wade & Jez Bu...  Hoyte van Hoytema   \n",
            "\n",
            "                                     Depicted_Film_Loc  \\\n",
            "0                                Great Britain, Jamaic   \n",
            "1                                Great Britain, Jamaic   \n",
            "2    United Kingdom, Great Britain, Turkey, Croatia...   \n",
            "3    United Kingdom, Great Britain, Turkey, Croatia...   \n",
            "4    United Kingdom, Great Britain, Turkey, Croatia...   \n",
            "..                                                 ...   \n",
            "117  Mexico, England, Italy, Austria, Morocco, Vati...   \n",
            "118  Mexico, England, Italy, Austria, Morocco, Vati...   \n",
            "119  Mexico, England, Italy, Austria, Morocco, Vati...   \n",
            "120  Mexico, England, Italy, Austria, Morocco, Vati...   \n",
            "121  Mexico, England, Italy, Austria, Morocco, Vati...   \n",
            "\n",
            "                                          Shooting_Loc  Bond_Car_MFG  \\\n",
            "0                                     England, Jamaica       Sunbeam   \n",
            "1                                     England, Jamaica       Sunbeam   \n",
            "2        England, Scotland, Italy, Switzerland, Turkey        Bently   \n",
            "3        England, Scotland, Italy, Switzerland, Turkey        Bently   \n",
            "4        England, Scotland, Italy, Switzerland, Turkey        Bently   \n",
            "..                                                 ...           ...   \n",
            "117  England, Austria, Italy, Vatican City, Mexico,...  Aston Martin   \n",
            "118  England, Austria, Italy, Vatican City, Mexico,...  Aston Martin   \n",
            "119  England, Austria, Italy, Vatican City, Mexico,...  Aston Martin   \n",
            "120  England, Austria, Italy, Vatican City, Mexico,...  Aston Martin   \n",
            "121  England, Austria, Italy, Vatican City, Mexico,...  Aston Martin   \n",
            "\n",
            "                          Bond_Girl_Nat   US_Gross  US_Adj  World_Gross  \\\n",
            "0               Swiss, English, English   16067035  123517     59567035   \n",
            "1               Swiss, English, English   16067035  123517     59567035   \n",
            "2    English, Italian, English, Israeli   24800000  188161     78900000   \n",
            "3    English, Italian, English, Israeli   24800000  188161     78900000   \n",
            "4    English, Italian, English, Israeli   24800000  188161     78900000   \n",
            "..                                  ...        ...     ...          ...   \n",
            "117            French, Italian, Mexican  200074175  196647    879620923   \n",
            "118            French, Italian, Mexican  200074175  196647    879620923   \n",
            "119            French, Italian, Mexican  200074175  196647    879620923   \n",
            "120            French, Italian, Mexican  200074175  196647    879620923   \n",
            "121            French, Italian, Mexican  200074175  196647    879620923   \n",
            "\n",
            "     World_Adj  Budget  Budget_Adj  Film_Length  Avg_User_IMDB  \\\n",
            "0       457928    1000        7688          110            7.3   \n",
            "1       457928    1000        7688          110            7.3   \n",
            "2       598624    2000       15174          115            7.5   \n",
            "3       598624    2000       15174          115            7.5   \n",
            "4       598624    2000       15174          115            7.5   \n",
            "..         ...     ...         ...          ...            ...   \n",
            "117     864553  245000      240803          148            6.8   \n",
            "118     864553  245000      240803          148            6.8   \n",
            "119     864553  245000      240803          148            6.8   \n",
            "120     864553  245000      240803          148            6.8   \n",
            "121     864553  245000      240803          148            6.8   \n",
            "\n",
            "     Avg_User_Rtn_Tom  Conquests  Martinis  BJB  Kills_Bond  Kills_Others  \\\n",
            "0                 7.7          3         2    1           4             8   \n",
            "1                 7.7          3         2    1           4             8   \n",
            "2                 8.0          4         0    0          11            16   \n",
            "3                 8.0          4         0    0          11            16   \n",
            "4                 8.0          4         0    0          11            16   \n",
            "..                ...        ...       ...  ...         ...           ...   \n",
            "117               6.4          3         1    1          30           205   \n",
            "118               6.4          3         1    1          30           205   \n",
            "119               6.4          3         1    1          30           205   \n",
            "120               6.4          3         1    1          30           205   \n",
            "121               6.4          3         1    1          30           205   \n",
            "\n",
            "     Top_100  Video_Game  \n",
            "0          0           0  \n",
            "1          0           0  \n",
            "2          0           1  \n",
            "3          0           1  \n",
            "4          0           1  \n",
            "..       ...         ...  \n",
            "117        1           0  \n",
            "118        1           0  \n",
            "119        1           0  \n",
            "120        1           0  \n",
            "121        1           0  \n",
            "\n",
            "[122 rows x 31 columns]\n"
          ]
        }
      ]
    }
  ],
  "metadata": {
    "colab": {
      "provenance": [],
      "include_colab_link": true
    },
    "kernelspec": {
      "display_name": "Python 3",
      "name": "python3"
    }
  },
  "nbformat": 4,
  "nbformat_minor": 0
}