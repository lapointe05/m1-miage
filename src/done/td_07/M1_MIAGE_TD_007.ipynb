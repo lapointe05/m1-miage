{
  "cells": [
    {
      "cell_type": "markdown",
      "metadata": {
        "colab_type": "text",
        "id": "view-in-github"
      },
      "source": [
        "<a href=\"https://colab.research.google.com/github/lapointe05/m1-miage/blob/franck_tchana_td07/M1_MIAGE_TD_007.ipynb\" target=\"_parent\"><img src=\"https://colab.research.google.com/assets/colab-badge.svg\" alt=\"Open In Colab\"/></a>"
      ]
    },
    {
      "cell_type": "markdown",
      "metadata": {
        "id": "597Hu82gSNCZ"
      },
      "source": [
        "<img src=\"https://upload.wikimedia.org/wikipedia/fr/0/0b/Polytech_Lyon_logo.png\" alt=\"drawing\" height=\"200\"/>\n",
        "\n",
        "# Traitement de données & Programmation en Python\n",
        "---\n",
        "\n"
      ]
    },
    {
      "cell_type": "markdown",
      "metadata": {
        "id": "EA-XK862WiMt"
      },
      "source": [
        "# TD 007\n",
        "\n",
        "TD à thème :)\n",
        "\n",
        "\n",
        "![Good luck!](https://media2.giphy.com/media/pF8PQGuxYGpEszkrwx/giphy.gif)\n",
        "\n",
        "\n",
        "[Source du dataset](https://www.kaggle.com/datasets/dreb87/jamesbond)\n",
        "\n",
        "Colonnes :\n",
        "\n",
        "* Year - Release year of the movie.\n",
        "* Movie - The movie title.\n",
        "* Bond - Actor who played James Bond.\n",
        "* Director - Director of the movie.\n",
        "* Composer - Composer of the movie.\n",
        "* Writer - Writer of the movie.\n",
        "* Cinematographer - Cinematographer of the movie.\n",
        "* Depicted_Film_Loc - Depicted location(s) of the movie.\n",
        "* Shooting_Loc - Shooting location(s) of the move.\n",
        "* Bond_Car_MFG - The manufacturer of the bond car.\n",
        "* Bond_Girl_Nat - The nationality of the bond girl(s).\n",
        "* US_Gross - The films U.S gross earnings.\n",
        "* US_Adj: The films U.S gross earnings adjusted based on 2013.\n",
        "* World_Gross - The films worldwide gross earnings.\n",
        "* World_Adj - The films worldwide gross earnings adjusted based on 2013.\n",
        "* Budget - The films budget.\n",
        "* Budget_Adj - The films budget adjust based on 2013.\n",
        "* Film_Length - The length of the movie.\n",
        "* Avg_User_IMDB - The average user rating from IMDB.\n",
        "* Avg_User_Rtn_Tom - The average user rating from Rotten Tomatoes.\n",
        "* Conquests - The number of bond girls in the movie.\n",
        "* Martinis - The number of martinis Bond consumed in the movie.\n",
        "* BJB - The number of times bond stated \"Bond, James Bond.\"\n",
        "* Kills_Bond - The number of people Bond killed.\n",
        "* Kills_Others - The number of people killed by someone other than bond.\n",
        "* Top_100 - A flag where 1 means the movie had Billboard/UK top 100 song, 0 means it didn't.\n",
        "* Video_Game - A flag where 1 means the movie was made into a video game, 0 means it didn't.\n",
        "\n",
        "Elements à consulter:\n",
        "\n",
        "\n",
        "\n",
        "Doc                                   |             Link\n",
        "--------------------------------------|------------------------------------\n",
        "Github Helper      | [>link<](#scrollTo=Github_101)\n",
        "Python en 30 jours | [>link<](https://moncoachdata.com/courses/apprendre-python-en-30-jours/)\n",
        "Get started with pandas | [>link<](https://colab.research.google.com/notebooks/snippets/pandas.ipynb)"
      ]
    },
    {
      "cell_type": "markdown",
      "metadata": {
        "id": "Y1g4EgT41MqJ"
      },
      "source": [
        "## Intro\n",
        "\n",
        "Le premier bloc devrait toujours contenir les installs/imports dont on aura besoin pour le reste"
      ]
    },
    {
      "cell_type": "code",
      "execution_count": null,
      "metadata": {
        "colab": {
          "base_uri": "https://localhost:8080/"
        },
        "id": "yjiE8c51VoT0",
        "outputId": "b3da6403-b5fa-4cec-87a9-a5789f6af6b4"
      },
      "outputs": [],
      "source": [
        "\n",
        "# Installs\n",
        "# ! pip install packagename\n",
        "print(\"Python is awesome 👍\")"
      ]
    },
    {
      "cell_type": "code",
      "execution_count": null,
      "metadata": {
        "id": "n_jOsgGllUhC"
      },
      "outputs": [],
      "source": [
        "# Imports\n",
        "import pandas as pd\n",
        "import numpy as np\n",
        "import matplotlib.pyplot as plt\n",
        "pd.set_option('display.max_columns', None)"
      ]
    },
    {
      "attachments": {},
      "cell_type": "markdown",
      "metadata": {
        "id": "SHsrGdy-5AZK"
      },
      "source": [
        "## 007\n",
        "\n",
        "1. Lire le dataset `jamesbond.csv` dans une variable `_007`\n",
        "2. Exploration de données (dans une variable puis afficher):\n",
        "   * Quel est le plus ancien film de 007 ? \n",
        "   * Qui est le plus ancien 007 ?\n",
        "   * Qui à jouer le plus de fois 007 ? (acteur)  \n",
        "3. Quel est le côut moyen de la realisation d'un James Bond ?\n",
        "4. Quels sont les lieux de tournage/représentés les plus populaires 🏝️ ? (En fonction du lieu de tournage réel **ou** de ceux représentés, déterminez les lieux les plus utilisés dans les films **graphiquement**.)\n",
        "5. Quel est la (marque) voiture la/les moins utilisée dans les films de 007 ?\n",
        "6. Calculer le nombre de martinis bus par James Bond par film.\n",
        "7. En prenant en compte le taux d'alcool moyen dans un martini (google) Est ce que James Bond avait le droit de conduire en France?\n",
        "8. Dans quel film James Bond dit ça phrase mythique le plus de fois ?\n",
        "9. Quel James Bond comporte le plus de kill ? (Tout confondu)\n",
        "10. Quel est le James Bond le plus rentable de tous les temps (Côuts/Bénéfices) ?\n",
        "11. Quel film de 007 a coûté le plus cher *par decennie* ? (Decomposez la réponse en deux ou plusieurs parties)\n",
        "12. Representez dans une carte du monde les lieux de tournages par film (la taille de la bulle sera determinée par la popularité du lieu Ref. Question precédente)\n",
        "\n",
        "> Bonus \n",
        "* Quel est le meilleur James Bond de tous les temps ? Trouvez un angle d'approche et de justification (par la data) à votre réponse :)"
      ]
    },
    {
      "cell_type": "code",
      "execution_count": null,
      "metadata": {
        "id": "yUmy-VTa3hgr"
      },
      "outputs": [],
      "source": [
        "# Code here\n",
        "#1 \n",
        "# lecture du dataset dans une variable _007\n",
        "\n",
        "_007 = pd.read_csv('./jamesbond.csv', delimiter= \",\")\n",
        "\n",
        "# Afficher le dataset\n",
        "_007\n",
        "\n",
        "# Premièrement, on affiche les dimensions de notre dataset\n",
        "print(_007.shape)\n",
        "\n",
        "# On affiche les statistiques de base pour chacune des variables\n",
        "print(_007.describe())\n"
      ]
    },
    {
      "cell_type": "code",
      "execution_count": null,
      "metadata": {},
      "outputs": [],
      "source": [
        "#2 \n",
        "# Exploration de données (dans une variable puis afficher):\n",
        "\n",
        "# Quel est le plus ancien film de 007 ?\n",
        "# Pour cela je filtre en fonction de l'année la date la plus ancienne de la colonne 'Year'\n",
        "filtre = (_007[\"Year\"]==_007[\"Year\"].min())\n",
        "old_year = _007.loc[filtre,['Movie','Year']]\n",
        "print(old_year)\n",
        "\n",
        "\n",
        "# Qui est le plus ancien 007 ? (un peu ambigûcomme question, est ce l'acteur qui a joué dans le plus ancien 007 ? ou alors\n",
        "# l'acteur de 007 le plus ancien ? )\n",
        "\n",
        "filtre_1 = ((_007[\"Year\"]) == _007[\"Year\"].min())\n",
        "who_old_007 = _007.loc[filtre_1, [\"Bond\", \"Year\", \"Movie\"]]\n",
        "print(who_old_007)\n",
        "\n",
        "\n",
        "# Qui à jouer le plus de fois 007 ? (acteur)\n",
        "\n",
        "filtre_2 = _007['Bond'].value_counts().idxmax()\n",
        "print(\"Acteur : \",filtre_2)"
      ]
    },
    {
      "cell_type": "code",
      "execution_count": null,
      "metadata": {},
      "outputs": [],
      "source": [
        "#3 Quel est le côut moyen de la realisation d'un James Bond ?\n",
        "\n",
        "mean_cout = _007['Budget'].describe()\n",
        "print('cout moyen', mean_cout['mean'])\n"
      ]
    },
    {
      "cell_type": "code",
      "execution_count": null,
      "metadata": {},
      "outputs": [],
      "source": [
        "#4 Quels sont les lieux de tournage/représentés les plus populaires 🏝️ ? \n",
        "# (En fonction du lieu de tournage réel ou de ceux représentés, déterminez les \n",
        "#  lieux les plus utilisés dans les films graphiquement.)\n",
        "\n",
        "\n",
        "_007[\"Shooting_Loc_List\"] = _007.Shooting_Loc.str.split(', ')\n",
        "\n",
        "loc_007_df = _007.explode('Shooting_Loc_List')\n",
        "loc_007_serie = loc_007_df['Shooting_Loc_List'].value_counts()\n",
        "loc_007_df = pd.DataFrame(loc_007_serie)\n",
        "loc_007_df.rename(columns = {'Shooting_Loc_List' : 'number_of_shooting'}, inplace= True)\n",
        "loc_007_df.reset_index(inplace = True)\n",
        "loc_007_df.rename(columns = {'index' : 'country'}, inplace = True)\n",
        "print(loc_007_df)\n",
        "\n",
        "loc_007_df.plot(x='country', y= 'number_of_shooting', xlabel= 'Pays de shooting', ylabel='nombre de shooting',\n",
        "                kind= 'bar', title= 'lieu de shooting les plus representés dans 007')"
      ]
    },
    {
      "cell_type": "code",
      "execution_count": null,
      "metadata": {},
      "outputs": [],
      "source": [
        "#5 Quel est la (marque) voiture la/les moins utilisée dans les films de 007 ?\n",
        "\n",
        "use_car_min = _007['Bond_Car_MFG'].value_counts(ascending= True)\n",
        "use_car_min_df = pd.DataFrame(use_car_min)\n",
        "use_car_min_df.rename(columns ={'Bond_Car_MFG' : \"Nombre_utilisation\"}, inplace=True)\n",
        "use_car_min_df.reset_index(inplace=True)\n",
        "use_car_min_df.rename(columns= {'index':'Voiture_moins_utilisée'}, inplace= True)\n",
        "print(use_car_min_df)\n"
      ]
    },
    {
      "cell_type": "code",
      "execution_count": null,
      "metadata": {},
      "outputs": [],
      "source": [
        "#6 Calculer le nombre de martinis bus par James Bond par film.\n",
        "nb_martinis = _007['Martinis'].sum()/_007['Movie'].count()\n",
        "print('nombre de martinis :' ,nb_martinis)\n"
      ]
    },
    {
      "cell_type": "code",
      "execution_count": null,
      "metadata": {},
      "outputs": [],
      "source": [
        "#7 En prenant en compte le taux d'alcool moyen dans un martini (google) \n",
        "# Est ce que James Bond avait le droit de conduire en France?\n",
        "\n",
        "## Le dégré d'alcool d'une bouteille de martini etant de 14,4%, et ensuite au dela de 0,5g/l d'alcool dans le sang il interdit de conduire en France\n",
        "## Il est evident que James en buvant 1 bouteille de martini par film n'a pas le droit de conduire en France car il explose\n",
        "## largement la limite d'alcool autorisée dans le sang en France.\n"
      ]
    },
    {
      "cell_type": "code",
      "execution_count": null,
      "metadata": {},
      "outputs": [],
      "source": [
        "#8 Dans quel film James Bond dit ça phrase mythique le plus de fois ?\n",
        "\n",
        "sentence_007_filter = (_007['BJB'] == _007['BJB'].max())\n",
        "sentence_007 = _007.loc[sentence_007_filter, ['Movie']]\n",
        "sentence_007\n",
        "\n"
      ]
    },
    {
      "cell_type": "code",
      "execution_count": null,
      "metadata": {},
      "outputs": [],
      "source": [
        "#9 Quel James Bond comporte le plus de kill ? (Tout confondu)\n",
        "Most_kills_Bond = _007.loc[:,['Bond','Kills_Bond']].groupby('Bond').sum()\n",
        "_007['All_Kills'] = _007['Kills_Bond'] + _007['Kills_Others']\n",
        "_007.loc[:,['Movie', 'All_Kills']].max()\n"
      ]
    },
    {
      "cell_type": "code",
      "execution_count": null,
      "metadata": {},
      "outputs": [],
      "source": [
        "#10 Quel est le James Bond le plus rentable de tous les temps (Côuts/Bénéfices) ?\n",
        "_007['Cost_profit'] = _007['Budget']/(_007['World_Gross']-_007['Budget'])\n",
        "_007.query('Cost_profit == Cost_profit.min()')\n"
      ]
    },
    {
      "cell_type": "code",
      "execution_count": null,
      "metadata": {},
      "outputs": [],
      "source": [
        "#11  Quel film de 007 a coûté le plus cher *par decennie* ? (Decomposez la réponse en deux ou plusieurs parties)\n"
      ]
    },
    {
      "cell_type": "code",
      "execution_count": 214,
      "metadata": {},
      "outputs": [
        {
          "data": {
            "text/html": [
              "<div>\n",
              "<style scoped>\n",
              "    .dataframe tbody tr th:only-of-type {\n",
              "        vertical-align: middle;\n",
              "    }\n",
              "\n",
              "    .dataframe tbody tr th {\n",
              "        vertical-align: top;\n",
              "    }\n",
              "\n",
              "    .dataframe thead th {\n",
              "        text-align: right;\n",
              "    }\n",
              "</style>\n",
              "<table border=\"1\" class=\"dataframe\">\n",
              "  <thead>\n",
              "    <tr style=\"text-align: right;\">\n",
              "      <th></th>\n",
              "      <th>country</th>\n",
              "      <th>latitude</th>\n",
              "      <th>longitude</th>\n",
              "      <th>name</th>\n",
              "    </tr>\n",
              "  </thead>\n",
              "  <tbody>\n",
              "    <tr>\n",
              "      <th>0</th>\n",
              "      <td>AD</td>\n",
              "      <td>42.546245</td>\n",
              "      <td>1.601554</td>\n",
              "      <td>Andorra</td>\n",
              "    </tr>\n",
              "    <tr>\n",
              "      <th>1</th>\n",
              "      <td>AE</td>\n",
              "      <td>23.424076</td>\n",
              "      <td>53.847818</td>\n",
              "      <td>United Arab Emirates</td>\n",
              "    </tr>\n",
              "    <tr>\n",
              "      <th>2</th>\n",
              "      <td>AF</td>\n",
              "      <td>33.939110</td>\n",
              "      <td>67.709953</td>\n",
              "      <td>Afghanistan</td>\n",
              "    </tr>\n",
              "    <tr>\n",
              "      <th>3</th>\n",
              "      <td>AG</td>\n",
              "      <td>17.060816</td>\n",
              "      <td>-61.796428</td>\n",
              "      <td>Antigua and Barbuda</td>\n",
              "    </tr>\n",
              "    <tr>\n",
              "      <th>4</th>\n",
              "      <td>AI</td>\n",
              "      <td>18.220554</td>\n",
              "      <td>-63.068615</td>\n",
              "      <td>Anguilla</td>\n",
              "    </tr>\n",
              "  </tbody>\n",
              "</table>\n",
              "</div>"
            ],
            "text/plain": [
              "  country   latitude  longitude                  name\n",
              "0      AD  42.546245   1.601554               Andorra\n",
              "1      AE  23.424076  53.847818  United Arab Emirates\n",
              "2      AF  33.939110  67.709953           Afghanistan\n",
              "3      AG  17.060816 -61.796428   Antigua and Barbuda\n",
              "4      AI  18.220554 -63.068615              Anguilla"
            ]
          },
          "execution_count": 214,
          "metadata": {},
          "output_type": "execute_result"
        }
      ],
      "source": [
        "#12 Representez dans une carte du monde les lieux de tournages par film \n",
        "# (la taille de la bulle sera determinée par la popularité du lieu Ref. Question precédente)\n",
        "\n",
        "world = pd.read_csv(\"geo_data.csv\")\n",
        "world.head()\n"
      ]
    },
    {
      "cell_type": "code",
      "execution_count": 212,
      "metadata": {},
      "outputs": [
        {
          "data": {
            "text/html": [
              "<div>\n",
              "<style scoped>\n",
              "    .dataframe tbody tr th:only-of-type {\n",
              "        vertical-align: middle;\n",
              "    }\n",
              "\n",
              "    .dataframe tbody tr th {\n",
              "        vertical-align: top;\n",
              "    }\n",
              "\n",
              "    .dataframe thead th {\n",
              "        text-align: right;\n",
              "    }\n",
              "</style>\n",
              "<table border=\"1\" class=\"dataframe\">\n",
              "  <thead>\n",
              "    <tr style=\"text-align: right;\">\n",
              "      <th></th>\n",
              "      <th>Movie</th>\n",
              "      <th>Avg_rating</th>\n",
              "    </tr>\n",
              "  </thead>\n",
              "  <tbody>\n",
              "    <tr>\n",
              "      <th>2</th>\n",
              "      <td>Goldfinger</td>\n",
              "      <td>8.1</td>\n",
              "    </tr>\n",
              "  </tbody>\n",
              "</table>\n",
              "</div>"
            ],
            "text/plain": [
              "        Movie  Avg_rating\n",
              "2  Goldfinger         8.1"
            ]
          },
          "execution_count": 212,
          "metadata": {},
          "output_type": "execute_result"
        }
      ],
      "source": [
        "# Bonus\n",
        "# Le meilleur James Bond de tous les temps\n",
        "_007['Avg_rating'] = (_007.Avg_User_IMDB+_007.Avg_User_Rtn_Tom)/2\n",
        "_007.query(\"Avg_rating == Avg_rating.max()\").loc[:,['Movie','Avg_rating']]"
      ]
    }
  ],
  "metadata": {
    "colab": {
      "include_colab_link": true,
      "provenance": []
    },
    "kernelspec": {
      "display_name": "base",
      "language": "python",
      "name": "python3"
    },
    "language_info": {
      "codemirror_mode": {
        "name": "ipython",
        "version": 3
      },
      "file_extension": ".py",
      "mimetype": "text/x-python",
      "name": "python",
      "nbconvert_exporter": "python",
      "pygments_lexer": "ipython3",
      "version": "3.9.13"
    },
    "vscode": {
      "interpreter": {
        "hash": "1889d7668b2a47aacb7847985e9bd9ce556bbd9a68ed9bf372d36594c96221b2"
      }
    }
  },
  "nbformat": 4,
  "nbformat_minor": 0
}
