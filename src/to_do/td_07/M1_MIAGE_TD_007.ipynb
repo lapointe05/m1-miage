{
 "cells": [
  {
   "cell_type": "markdown",
   "metadata": {
    "id": "597Hu82gSNCZ"
   },
   "source": [
    "<img src=\"https://upload.wikimedia.org/wikipedia/fr/0/0b/Polytech_Lyon_logo.png\" alt=\"drawing\" height=\"200\"/>\n",
    "\n",
    "# Traitement de données & Programmation en Python\n",
    "---\n",
    "\n"
   ]
  },
  {
   "cell_type": "markdown",
   "metadata": {
    "id": "EA-XK862WiMt"
   },
   "source": [
    "# TD 007\n",
    "\n",
    "TD à thème :)\n",
    "\n",
    "\n",
    "![Good luck!](https://media2.giphy.com/media/pF8PQGuxYGpEszkrwx/giphy.gif)\n",
    "\n",
    "\n",
    "[Source du dataset](https://www.kaggle.com/datasets/dreb87/jamesbond)\n",
    "\n",
    "Colonnes :\n",
    "\n",
    "* Year - Release year of the movie.\n",
    "* Movie - The movie title.\n",
    "* Bond - Actor who played James Bond.\n",
    "* Director - Director of the movie.\n",
    "* Composer - Composer of the movie.\n",
    "* Writer - Writer of the movie.\n",
    "* Cinematographer - Cinematographer of the movie.\n",
    "* Depicted_Film_Loc - Depicted location(s) of the movie.\n",
    "* Shooting_Loc - Shooting location(s) of the move.\n",
    "* Bond_Car_MFG - The manufacturer of the bond car.\n",
    "* Bond_Girl_Nat - The nationality of the bond girl(s).\n",
    "* US_Gross - The films U.S gross earnings.\n",
    "* US_Adj: The films U.S gross earnings adjusted based on 2013.\n",
    "* World_Gross - The films worldwide gross earnings.\n",
    "* World_Adj - The films worldwide gross earnings adjusted based on 2013.\n",
    "* Budget - The films budget.\n",
    "* Budget_Adj - The films budget adjust based on 2013.\n",
    "* Film_Length - The length of the movie.\n",
    "* Avg_User_IMDB - The average user rating from IMDB.\n",
    "* Avg_User_Rtn_Tom - The average user rating from Rotten Tomatoes.\n",
    "* Conquests - The number of bond girls in the movie.\n",
    "* Martinis - The number of martinis Bond consumed in the movie.\n",
    "* BJB - The number of times bond stated \"Bond, James Bond.\"\n",
    "* Kills_Bond - The number of people Bond killed.\n",
    "* Kills_Others - The number of people killed by someone other than bond.\n",
    "* Top_100 - A flag where 1 means the movie had Billboard/UK top 100 song, 0 means it didn't.\n",
    "* Video_Game - A flag where 1 means the movie was made into a video game, 0 means it didn't.\n",
    "\n",
    "Elements à consulter:\n",
    "\n",
    "\n",
    "\n",
    "Doc                                   |             Link\n",
    "--------------------------------------|------------------------------------\n",
    "Github Helper      | [>link<](#scrollTo=Github_101)\n",
    "Python en 30 jours | [>link<](https://moncoachdata.com/courses/apprendre-python-en-30-jours/)\n",
    "Get started with pandas | [>link<](https://colab.research.google.com/notebooks/snippets/pandas.ipynb)"
   ]
  },
  {
   "cell_type": "markdown",
   "metadata": {
    "id": "Y1g4EgT41MqJ"
   },
   "source": [
    "## Intro\n",
    "\n",
    "Le premier bloc devrait toujours contenir les installs/imports dont on aura besoin pour le reste"
   ]
  },
  {
   "cell_type": "code",
   "execution_count": 1,
   "metadata": {
    "colab": {
     "base_uri": "https://localhost:8080/"
    },
    "id": "yjiE8c51VoT0",
    "outputId": "1145e937-46a6-4d6b-f5ee-28cd48bb5b52"
   },
   "outputs": [
    {
     "name": "stdout",
     "output_type": "stream",
     "text": [
      "Python is awesome 👍\n"
     ]
    }
   ],
   "source": [
    "\n",
    "# Installs\n",
    "# ! pip install packagename\n",
    "print(\"Python is awesome 👍\")"
   ]
  },
  {
   "cell_type": "code",
   "execution_count": 25,
   "metadata": {
    "id": "n_jOsgGllUhC"
   },
   "outputs": [],
   "source": [
    "# Imports\n",
    "import pandas as pd\n",
    "import numpy as np\n",
    "pd.set_option('display.max_columns', None)"
   ]
  },
  {
   "cell_type": "markdown",
   "metadata": {
    "id": "SHsrGdy-5AZK"
   },
   "source": [
    "## 007\n",
    "\n",
    "1. Lire le dataset `jamesbond.csv` dans une variable `_007`\n",
    "2. Exploration de données (dans une variable puis afficher):\n",
    "   * Quel est le plus ancien film de 007 ? \n",
    "   * Qui est le plus ancien 007 ?\n",
    "   * Qui à jouer le plus de fois 007 ? (acteur)  \n",
    "3. Quel est le côut moyen de la realisation d'un James Bond ?\n",
    "4. Quels sont les lieux de tournage/représentés les plus populaires 🏝️ ? (En fonction du lieu de tournage réel **ou** de ceux représentés, déterminez les lieux les plus utilisés dans les films **graphiquement**.)\n",
    "5. Quel est la (marque) voiture la/les moins utilisée dans les films de 007 ?\n",
    "6. Calculer le nombre de martinis bus par James Bond par film.\n",
    "7. En prenant en compte le taux d'alcool moyen dans un martini (google) Est ce que James Bond avait le droit de conduire en France?\n",
    "8. Dans quel film James Bond dit ça phrase mythique le plus de fois ?\n",
    "9. Quel James Bond comporte le plus de kill ? (Tout confondu)\n",
    "10. Quel est le James Bond le plus rentable de tous les temps (Côuts/Bénéfices) ?\n",
    "11. Quel film de 007 a coûté le plus cher *par decennie* ? (Decomposez la réponse en deux ou plusieurs parties)\n",
    "12. Representez dans une carte du monde les lieux de tournages par film (la taille de la bulle sera determinée par la popularité du lieu Ref. Question precédente)\n",
    "\n",
    "> Bonus \n",
    "* Quel est le meilleur James Bond de tous les temps ? Trouvez un angle d'approche et de justification (par la data) à votre réponse :)"
   ]
  },
  {
   "cell_type": "code",
   "execution_count": 83,
   "metadata": {},
   "outputs": [
    {
     "name": "stdout",
     "output_type": "stream",
     "text": [
      "1962\n",
      "0    Sean Connery\n",
      "Name: Bond, dtype: object\n",
      "7\n"
     ]
    }
   ],
   "source": [
    "import pandas as pd\n",
    "\n",
    "_007 = pd.read_csv(\"./jamesbond.csv\", sep = \",\")\n",
    "_007.loc[:,:]\n",
    "\n",
    "\n",
    "vieux_film = _007['Year'].min()\n",
    "print(vieux_film)\n",
    "filtre = (_007['Year']==_007['Year'].min())\n",
    "acteur = _007.loc[filtre, 'Bond']\n",
    "print(acteur)\n",
    "\n",
    "dups = _007.pivot_table(index = ['Bond'], aggfunc ='size').sort_values(ascending=False)[0]\n",
    "print(dups)\n",
    "\n",
    "#graphique = scattermapbox"
   ]
  },
  {
   "cell_type": "code",
   "execution_count": null,
   "metadata": {
    "id": "yUmy-VTa3hgr"
   },
   "outputs": [],
   "source": [
    "# Code here"
   ]
  }
 ],
 "metadata": {
  "colab": {
   "provenance": []
  },
  "kernelspec": {
   "display_name": "Python 3 (ipykernel)",
   "language": "python",
   "name": "python3"
  },
  "language_info": {
   "codemirror_mode": {
    "name": "ipython",
    "version": 3
   },
   "file_extension": ".py",
   "mimetype": "text/x-python",
   "name": "python",
   "nbconvert_exporter": "python",
   "pygments_lexer": "ipython3",
   "version": "3.9.13"
  }
 },
 "nbformat": 4,
 "nbformat_minor": 1
}
