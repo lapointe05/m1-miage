{
 "cells": [
  {
   "cell_type": "markdown",
   "metadata": {
    "colab_type": "text",
    "id": "view-in-github"
   },
   "source": [
    "<a href=\"https://colab.research.google.com/github/lapointe05/m1-miage/blob/main/M1_MIAGE_TD_03.ipynb\" target=\"_parent\"><img src=\"https://colab.research.google.com/assets/colab-badge.svg\" alt=\"Open In Colab\"/></a>"
   ]
  },
  {
   "cell_type": "markdown",
   "metadata": {
    "id": "597Hu82gSNCZ"
   },
   "source": [
    "<img src=\"https://upload.wikimedia.org/wikipedia/fr/0/0b/Polytech_Lyon_logo.png\" alt=\"drawing\" height=\"200\"/>\n",
    "\n",
    "# Algorithmique Avancée & Programmation en Python\n",
    "---\n",
    "\n"
   ]
  },
  {
   "cell_type": "markdown",
   "metadata": {
    "id": "EA-XK862WiMt"
   },
   "source": [
    "# TD 03\n",
    "\n",
    "Intro aux traitement de données\n",
    "\n",
    "```python\n",
    "print(\"Hello, friend! It's been a while...\")\n",
    "```\n",
    " \n",
    "Elements à consulter:\n",
    "\n",
    "\n",
    "Doc                                   |             Link\n",
    "--------------------------------------|------------------------------------\n",
    "Python en 30 jours | [>link<](https://moncoachdata.com/courses/apprendre-python-en-30-jours/)\n",
    "Get started with pandas | [>link<](https://colab.research.google.com/notebooks/snippets/pandas.ipynb)"
   ]
  },
  {
   "cell_type": "markdown",
   "metadata": {
    "id": "Y1g4EgT41MqJ"
   },
   "source": [
    "## Intro\n",
    "\n",
    "Le premier bloc devrait toujours contenir les installs/imports dont on aura besoin pour le reste"
   ]
  },
  {
   "cell_type": "code",
   "execution_count": 1,
   "metadata": {
    "colab": {
     "base_uri": "https://localhost:8080/"
    },
    "id": "yjiE8c51VoT0",
    "outputId": "88029a55-7ea9-4945-f975-2bdea0d2be95"
   },
   "outputs": [],
   "source": [
    "# Installs\n",
    "!pip install emoji --quiet"
   ]
  },
  {
   "cell_type": "code",
   "execution_count": 2,
   "metadata": {
    "colab": {
     "base_uri": "https://localhost:8080/"
    },
    "id": "JhT-50uwz72F",
    "outputId": "3e6b6a89-5efe-4122-9274-710c2d526432"
   },
   "outputs": [
    {
     "name": "stdout",
     "output_type": "stream",
     "text": [
      "Python is awesome 👍\n"
     ]
    }
   ],
   "source": [
    "# Imports\n",
    "import os\n",
    "import json\n",
    "from random import randint\n",
    "# import pandas as pd\n",
    "# import numpy as np\n",
    "from getpass import getpass\n",
    "import emoji\n",
    "import re\n",
    "\n",
    "print(emoji.emojize('Python is awesome :thumbs_up:'))"
   ]
  },
  {
   "cell_type": "markdown",
   "metadata": {
    "id": "5jpD7nr9NrKR"
   },
   "source": [
    "##EX01\n",
    "### Révision boucles / compréhension de listes\n",
    "\n",
    "Avec l'usage de la boucle `for`, répondez aux questions ci-dessous\n",
    "\n",
    "\n",
    "> PS: Code pris et modifié à partir d'exo sur github"
   ]
  },
  {
   "cell_type": "code",
   "execution_count": 3,
   "metadata": {
    "id": "8p4JXCtEyQBX"
   },
   "outputs": [
    {
     "name": "stdout",
     "output_type": "stream",
     "text": [
      "[44, 4, 38]\n",
      "[1, 2, 3, 4, 5, 6, 7, 8, 9]\n",
      "[0, 2, 4, 6, 8]\n"
     ]
    }
   ],
   "source": [
    "##############################################################\n",
    "nombres = [1, 21, 5, 44, 4, 9, 5, 83, 29, 31, 25, 38]\n",
    "nombres_pairs = []\n",
    "'''\n",
    ">>>>>>CODE HERE<<<<<<\n",
    "'''\n",
    "for nombre in nombres:\n",
    "    if nombre % 2 == 0:\n",
    "        nombres_pairs.append(nombre)\n",
    "print(nombres_pairs)\n",
    "\n",
    "##############################################################\n",
    "\n",
    "nombres = range(-10, 10)\n",
    "nombres_positifs = []\n",
    "'''\n",
    ">>>>>>CODE HERE<<<<<<\n",
    "'''\n",
    "for nombre in nombres:\n",
    "    if nombre > 0:\n",
    "        nombres_positifs.append(nombre)\n",
    "print(nombres_positifs)\n",
    "\n",
    "##############################################################\n",
    "\n",
    "nombres = range(5)\n",
    "nombres_x2 = []\n",
    "'''\n",
    ">>>>>>CODE HERE<<<<<<\n",
    "'''\n",
    "for nombre in nombres:\n",
    "    nombres_x2.append(nombre * 2)\n",
    "print(nombres_x2)"
   ]
  },
  {
   "cell_type": "markdown",
   "metadata": {
    "id": "BQBEhammPFtE"
   },
   "source": [
    "### PART 2\n",
    "Changez le code ci-dessus, et remplacez les blocs `for` par des [compréhensions de listes](https://duckduckgo.com/?q=list+comprehension+python)"
   ]
  },
  {
   "cell_type": "code",
   "execution_count": 4,
   "metadata": {
    "id": "zlMvZFGcPEAG"
   },
   "outputs": [
    {
     "name": "stdout",
     "output_type": "stream",
     "text": [
      "[44, 4, 38]\n",
      "[1, 2, 3, 4, 5, 6, 7, 8, 9]\n",
      "[0, 2, 4, 6, 8]\n"
     ]
    }
   ],
   "source": [
    "##############################################################\n",
    "nombres = [1, 21, 5, 44, 4, 9, 5, 83, 29, 31, 25, 38]\n",
    "nombres_pairs = []\n",
    "'''\n",
    ">>>>>>CODE HERE<<<<<<\n",
    "'''\n",
    "nombres_pairs = [nombre for nombre in nombres if nombre % 2 == 0]\n",
    "print(nombres_pairs)\n",
    "\n",
    "##############################################################\n",
    "\n",
    "nombres = range(-10, 10)\n",
    "nombres_positifs = []\n",
    "'''\n",
    ">>>>>>CODE HERE<<<<<<\n",
    "'''\n",
    "nombres_positifs = [nombre for nombre in nombres if nombre > 0]\n",
    "print(nombres_positifs)\n",
    "\n",
    "##############################################################\n",
    "\n",
    "nombres = range(5)\n",
    "nombres_x2 = []\n",
    "'''\n",
    ">>>>>>CODE HERE<<<<<<\n",
    "'''\n",
    "nombres_x2 = [nombre * 2 for nombre in nombres]\n",
    "print(nombres_x2)"
   ]
  },
  {
   "cell_type": "markdown",
   "metadata": {
    "id": "cN_XcFu1dG5V"
   },
   "source": [
    "##EX02\n",
    "### Les sets\n",
    "\n",
    "  1. Créez un `set` vide et attribuez-le à une variable.\n",
    "  2. Ajoutez trois éléments à votre ensemble vide en utilisant soit plusieurs appels `add`, soit un seul appel de `update`.\n",
    "\n",
    "  3. Créez un deuxième `set` qui comprend au moins un élément commun avec le premier ensemble.\n",
    "\n",
    "  4. Trouvez l’union, la différence et l’intersection des deux `set`. >>\n",
    "Imprimez les résultats de chaque opération.\n",
    "\n",
    "  5. Créez une `set` de nombres en utilisant `range()`, puis demandez à l’utilisateur d’entrer un nombre. Indiquez à l’utilisateur si son nombre se situe ou non dans la plage de valeurs que vous avez spécifiée.\n",
    "\n",
    ">Bonus: \n",
    ">>Indiquer à l’utilisateur si son nombre était trop élevé ou trop bas."
   ]
  },
  {
   "cell_type": "code",
   "execution_count": 5,
   "metadata": {
    "id": "yzbCm94SwV6g"
   },
   "outputs": [
    {
     "name": "stdout",
     "output_type": "stream",
     "text": [
      "{'Albert', 'Rosa', 'Maxime'}\n",
      "{'Nicolas', 'Maxime', 'Samir'}\n",
      "Union : {'Rosa', 'Nicolas', 'Samir', 'Albert', 'Maxime'}\n",
      "Intersection : {'Maxime'}\n",
      "{0, 1, 2, 3, 4, 5, 6, 7, 8, 9}\n",
      "Proposez un chiffre : 8\n",
      "Votre nombre se trouve dans la liste\n"
     ]
    }
   ],
   "source": [
    "# Code here\n",
    "# 1.\n",
    "set_variable = set()\n",
    "\n",
    "# 2.\n",
    "names = [\"Albert\", \"Rosa\", \"Maxime\"]\n",
    "set_variable.update(names)\n",
    "print(set_variable)\n",
    "\n",
    "# 3.\n",
    "set_variable2 = {\"Nicolas\", \"Samir\", \"Maxime\"}\n",
    "print(set_variable2)\n",
    "\n",
    "# 4.\n",
    "union = set_variable.union(set_variable2)\n",
    "print(f\"Union : {union}\")\n",
    "\n",
    "intersect = set_variable.intersection(set_variable2)\n",
    "print(f\"Intersection : {intersect}\")\n",
    "\n",
    "# 5.\n",
    "nombre_set = set()\n",
    "nombres = range(randint(5, 10))\n",
    "nombre_set.clear()\n",
    "nombre_set.update(nombres)\n",
    "print(nombre_set)\n",
    "\n",
    "guess = int(input(\"Proposez un chiffre : \"))\n",
    "if guess in nombre_set:\n",
    "    print(\"Votre nombre se trouve dans la liste\")\n",
    "else:\n",
    "    is_greater = False\n",
    "    for nombre in nombre_set:\n",
    "        if guess > nombre:\n",
    "            is_greater = True\n",
    "    if is_greater:\n",
    "        print(\"Votre nombre était trop grand.\")\n",
    "    else:\n",
    "        print(\"Votre nombre était trop petit.\")"
   ]
  },
  {
   "cell_type": "markdown",
   "metadata": {
    "id": "SHsrGdy-5AZK"
   },
   "source": [
    "## EX03\n",
    "### Revision listes\n",
    "1. Créez une liste de séries (`binge_watch_list`) contenant un seul tuple. Le tuple doit contenir le titre de la série, la plateforme de streaming (légal), le nombre d'épisodes de la série, l'année de sortie et une note /10.\n",
    "\n",
    "2. Créez une fonction (`input_series`) qui receuil des informations sur d'autres séries à l'aide de la fonction native `input`. Et nous retourne un tuple. \\n\n",
    "Tout les champs sont obligatoires.\n",
    "\n",
    "4. Utilisez `f-string` pour imprimer le nom et l’année de sortie de la série qu'on vient d'input.\n",
    "\n",
    "3. Alimenter la liste (`binge_watch_list`) avec le retour de la fonction (`input_series`) \\n\n",
    "Assurez vous que l'ordre des champs soit le même que dans (`binge_watch_list`).\n",
    "\n",
    "\n",
    "5. Afficher le nom et l’année de sortie de toutes les séries dans `binge_watch_list`.\n",
    "\n",
    "> Bonus:\n",
    "\n",
    "6. Supprimez la série la moins bien noté de `binge_watch_list`. Utilisez la méthode de votre choix."
   ]
  },
  {
   "cell_type": "code",
   "execution_count": 7,
   "metadata": {
    "id": "jIatRWhm5Xzo"
   },
   "outputs": [
    {
     "name": "stdout",
     "output_type": "stream",
     "text": [
      "Nom de la série : the crown\n",
      "Nom de la plateforme : netflix\n",
      "Nombres d'épisodes : 100\n",
      "Année de la sortie : 2022\n",
      "Votre note sur 10 : 10\n",
      "Nom de la série : The Crown\n",
      "Année de sortie 2022\n",
      "\n",
      "[('Good Doctor', 'Netflix', 76, 2020, 7), ('The Crown', 'Netflix', 100, 2022, 10)]\n",
      "Nom de la série : Good Doctor\n",
      "Année de sortie 2020\n",
      "\n",
      "Nom de la série : The Crown\n",
      "Année de sortie 2022\n",
      "\n",
      "[('The Crown', 'Netflix', 100, 2022, 10)]\n"
     ]
    }
   ],
   "source": [
    "# Code here\n",
    "# 1.\n",
    "binge_watch_list = []\n",
    "binge_watch_list.append((\"Good Doctor\", \"Netflix\", 76, 2020, 7))\n",
    "\n",
    "# 2 - 3.\n",
    "def input_series() -> tuple:\n",
    "    name = \"\"\n",
    "    plateform = \"\"\n",
    "    nb_episodes = \"\"\n",
    "    année_sortie = \"\"\n",
    "    note = 11\n",
    "    \n",
    "    while not name:\n",
    "        name = input(\"Nom de la série : \").title().strip()\n",
    "        \n",
    "    while not plateform:\n",
    "        plateform = input(\"Nom de la plateforme : \").title().strip()\n",
    "        \n",
    "    while not nb_episodes:\n",
    "        nb_episodes = int(input(\"Nombres d'épisodes : \"))\n",
    "        \n",
    "    while not année_sortie:\n",
    "        année_sortie = int(input(\"Année de la sortie : \"))\n",
    "        \n",
    "    while note > 10:\n",
    "        note = int(input(\"Votre note sur 10 : \"))\n",
    "        \n",
    "    print(f\"Nom de la série : {name}\\nAnnée de sortie {année_sortie}\\n\")\n",
    "    return (name, plateform, nb_episodes, année_sortie, note)\n",
    "\n",
    "# 4.\n",
    "binge_watch_list.append(input_series())\n",
    "print(binge_watch_list)\n",
    "\n",
    "# 5 - 6.\n",
    "min_note = 11\n",
    "for movie in binge_watch_list:\n",
    "    print(f\"Nom de la série : {movie[0]}\\nAnnée de sortie {movie[3]}\\n\")\n",
    "    if min_note > movie[4]:\n",
    "        movie_to_delete = movie\n",
    "        min_note = movie[4]\n",
    "\n",
    "binge_watch_list.remove(movie_to_delete)\n",
    "print(binge_watch_list)"
   ]
  },
  {
   "cell_type": "markdown",
   "metadata": {
    "id": "-Zrebyjbxb89"
   },
   "source": [
    "Transformer le code ci-dessous de liste a dictionnaire"
   ]
  },
  {
   "cell_type": "code",
   "execution_count": 8,
   "metadata": {
    "id": "wqwmWD1HxfKF"
   },
   "outputs": [
    {
     "name": "stdout",
     "output_type": "stream",
     "text": [
      "{'The Crown': {'Nom de la plateforme': 'Netflix', \"Nombre d'épisodes\": 100, 'Année de la sortie': 2022, 'Votre note sur 10': 10}}\n"
     ]
    }
   ],
   "source": [
    "binge_watch_dict = {}\n",
    "for movie in binge_watch_list:\n",
    "    movie_dict ={\n",
    "            \"Nom de la plateforme\": movie[1],\n",
    "            \"Nombre d'épisodes\": movie[2],\n",
    "            \"Année de la sortie\": movie[3],\n",
    "            \"Votre note sur 10\": movie[4],\n",
    "    }\n",
    "    binge_watch_dict[movie[0]] = movie_dict\n",
    "print(binge_watch_dict)"
   ]
  },
  {
   "cell_type": "markdown",
   "metadata": {
    "id": "W3BGjEYaf2UQ"
   },
   "source": [
    "## EX04\n",
    "### Révision strings / fonctions\n",
    "Implementer deux fonctions `input_password()` & `password_check(x)` qui :\n",
    "\n",
    "1. `input_password()` fait:\n",
    "    * Demande à l'utilisateur un mot de passe d'au moins 8 caractères, 12 c'est mieux.\n",
    "    * retourne ce dernier\n",
    "\n",
    "2. `password_check(x)` verifie:\n",
    "\n",
    "    * print `mot de passe trop court!` **avec une majuscule sur la première lettre** si la longueur du mot de passe entré est `plus petite que 8`.\n",
    "\n",
    "    * Verifier que le mot de passe soit une combinaison de `lettres majuscules, de lettres minuscules, de chiffres et de symboles.` \n",
    "    > Si le mot de passe manque de répondre à une condition, l'afficher à l'utilisateur\n",
    "\n",
    "    *  Afficher la phrase `\"Mot de passe valide.\"` si le mot de passe répond à **toutes les conditions**.\n",
    "\n",
    "> bonus \n",
    "\n",
    "* Verifier qu'un même mot de passe ne peut pas etre saisie deux fois, ex. utiliser une variable `previous_password`"
   ]
  },
  {
   "cell_type": "code",
   "execution_count": 28,
   "metadata": {
    "colab": {
     "base_uri": "https://localhost:8080/",
     "height": 53
    },
    "id": "FS2OxAtBf1tB",
    "outputId": "c29ca3c4-258f-4a5f-9496-ef14df6508aa"
   },
   "outputs": [
    {
     "name": "stdout",
     "output_type": "stream",
     "text": [
      "Entrez un mot de passe de 8 caractères ou plus : ········\n",
      "Votre mot de passe ne contient pas de majuscules.\n",
      "Votre mot de passe ne contient pas de chiffres.\n",
      "Votre mot de passe ne contient pas de symboles.\n",
      "Entrez un mot de passe de 8 caractères ou plus : ········\n",
      "À la prochaine!\n"
     ]
    }
   ],
   "source": [
    "# 1.\n",
    "\n",
    "\n",
    "def input_password()->str:\n",
    "    return(getpass(\"Entrez un mot de passe de 8 caractères ou plus : \"))\n",
    "\n",
    "\n",
    "# 2.\n",
    "\n",
    "\n",
    "# J'ai importé \"re\" pour faire du regex, sinon on aurait aussi pu faire des \n",
    "# listes contenant les lettres en minuscules, etc. et regardé si on a au moins un caractère dedans.\n",
    "def password_check(pwd, previous_password):\n",
    "    is_correct = True\n",
    "    \n",
    "    if pwd == previous_password:\n",
    "        print(\"Ce mot de passe est le même que précédemment.\")\n",
    "        is_correct = False\n",
    "    \n",
    "    if len(pwd) < 8:\n",
    "        print(\"Mot de passe trop court!\")\n",
    "        is_correct = False\n",
    "        \n",
    "    if not re.match(\"^(?=.*?[A-Z])\", pwd):\n",
    "        print(\"Votre mot de passe ne contient pas de majuscules.\")\n",
    "        is_correct = False\n",
    "        \n",
    "    if not re.match(\"^(?=.*?[a-z])\", pwd):\n",
    "        print(\"Votre mot de passe ne contient pas de minuscules.\")\n",
    "        is_correct = False\n",
    "        \n",
    "    if not re.match(\"^(?=.*?[0-9])\", pwd):\n",
    "        print(\"Votre mot de passe ne contient pas de chiffres.\")\n",
    "        is_correct = False\n",
    "        \n",
    "    if not re.match(\"^(?=.*?[#?!@$%^&*-.;:_=])\", pwd):\n",
    "        print(\"Votre mot de passe ne contient pas de symboles.\")\n",
    "        is_correct = False\n",
    "    \n",
    "    if is_correct:\n",
    "        print(\"Mot de passe valide.\")\n",
    "\n",
    "        \n",
    "# Start from this\n",
    "prev_pwd = \"\"\n",
    "is_not_end = True\n",
    "while is_not_end:\n",
    "    p = input_password().strip()\n",
    "    \n",
    "    if p.lower() == \"quitter\":\n",
    "        print(\"À la prochaine!\")\n",
    "        break\n",
    "    \n",
    "    password_check(p, prev_pwd)\n",
    "    prev_pwd = p"
   ]
  },
  {
   "cell_type": "markdown",
   "metadata": {
    "id": "nu6wbxZnc2vL"
   },
   "source": [
    "## EX05\n",
    "### To do list\n",
    "1. Créez une fonction (`to_do_list()`) qui demande à l'utilisateur de choisir parmis 5 options\n",
    "    1. Ajouter un élément à la to do list\n",
    "    2. Retirer un élément de la to do list\n",
    "    3. Afficher les éléments de la to do list\n",
    "    4. Vider la to do list\n",
    "    5. Quitter le programme\n",
    "2. L'utilisateur doit entrer un nombre (entre 1 et 5) pour choisir l'option souhaité \n",
    "    * Vous devez verifier que l'input est un nombre\n",
    "    * Vous devez verifier que l'input est entre 1 et 5\n",
    "\n",
    "3. Implementez chancune des options de la fonction 😃\n",
    "\n",
    "3. Exemple de run du code ci dessous 👇"
   ]
  },
  {
   "cell_type": "code",
   "execution_count": null,
   "metadata": {
    "colab": {
     "base_uri": "https://localhost:8080/"
    },
    "id": "FqgwJj-2USlc",
    "outputId": "8161f044-f38d-449c-c745-51350373eb8c"
   },
   "outputs": [
    {
     "name": "stdout",
     "output_type": "stream",
     "text": [
      "\n",
      "            1. Ajouter un élément à la to do list.\n",
      "            2. Retirer un élément à la to do list.\n",
      "            3. Afficher les éléments de la to do list.\n",
      "            4. Vider la to do list.\n",
      "            5. Quitter le programme.\n",
      "            1\n",
      "Quel votre ajout ? Nourrir les chats\n",
      "L'élément a été correctement ajouté. ✅\n",
      "\n",
      "            1. Ajouter un élément à la to do list.\n",
      "            2. Retirer un élément à la to do list.\n",
      "            3. Afficher les éléments de la to do list.\n",
      "            4. Vider la to do list.\n",
      "            5. Quitter le programme.\n",
      "            1\n",
      "Quel votre ajout ? Finir le TD python\n",
      "L'élément a été correctement ajouté. ✅\n",
      "\n",
      "            1. Ajouter un élément à la to do list.\n",
      "            2. Retirer un élément à la to do list.\n",
      "            3. Afficher les éléments de la to do list.\n",
      "            4. Vider la to do list.\n",
      "            5. Quitter le programme.\n",
      "            3\n",
      "Voici vos tâches à faire : 👇\n",
      "1. Nourrir les chats\n",
      "2. Finir le TD python\n",
      "\n",
      "            1. Ajouter un élément à la to do list.\n",
      "            2. Retirer un élément à la to do list.\n",
      "            3. Afficher les éléments de la to do list.\n",
      "            4. Vider la to do list.\n",
      "            5. Quitter le programme.\n",
      "            2\n",
      "Quel élément voulez-vous retirer ?2\n",
      "L'élément a été correctement retiré. ✅\n",
      "\n",
      "            1. Ajouter un élément à la to do list.\n",
      "            2. Retirer un élément à la to do list.\n",
      "            3. Afficher les éléments de la to do list.\n",
      "            4. Vider la to do list.\n",
      "            5. Quitter le programme.\n",
      "            3\n",
      "Voici vos tâches à faire : 👇\n",
      "1. Nourrir les chats\n"
     ]
    }
   ],
   "source": [
    "# Functions\n",
    "\n",
    "# 1.\n",
    "def to_do_list():\n",
    "    liste_de_chose_a_faire = []\n",
    "    programme_continue = True\n",
    "    choice_not_right = True\n",
    "    \n",
    "    while programme_continue:\n",
    "        while choice_not_right:\n",
    "            choice = input(\"\"\"\n",
    "            1. Ajouter un élément à la to do list.\n",
    "            2. Retirer un élément à la to do list.\n",
    "            3. Afficher les éléments de la to do list.\n",
    "            4. Vider la to do list.\n",
    "            5. Quitter le programme.\n",
    "            \"\"\")\n",
    "            if vérif_choix(choice):\n",
    "                choice_not_right = False\n",
    "            else:\n",
    "                print(\"Veuillez choisir une de ces réponses : 👇\")\n",
    "\n",
    "        choice = int(choice)\n",
    "        # TODO5 Quitter le programme\n",
    "        if choice == 5:\n",
    "            print(\"À la prochaine! ☀️\")\n",
    "            break\n",
    "        # TODO4 Vider la to do list\n",
    "        elif choice == 4:\n",
    "            liste_de_chose_a_faire = []\n",
    "            print(\"La to do list a été vidée. 🚮\")\n",
    "        # TODO3 Afficher les éléments de la to do list\n",
    "        elif choice == 3:\n",
    "            afficher_élément(liste_de_chose_a_faire)\n",
    "        # TODO2 Retirer élément de la to do list\n",
    "        elif choice == 2:\n",
    "            liste_de_chose_a_faire = retirer_élément(liste_de_chose_a_faire)\n",
    "        else:\n",
    "            liste_de_chose_a_faire = ajouter_élément(liste_de_chose_a_faire)\n",
    "        choice_not_right = True\n",
    "\n",
    "# 2.\n",
    "def vérif_choix(choix) -> bool:\n",
    "    if choix.isdigit():\n",
    "        if int(choix) <= 5 and int(choix) >= 1:\n",
    "            return True\n",
    "    return False\n",
    "\n",
    "\n",
    "# TODO1 Ajouter élément à la to do list\n",
    "\n",
    "\n",
    "def ajouter_élément(liste) -> list:\n",
    "    elmnt = input(\"Quel votre ajout ? \")\n",
    "    liste.append(elmnt)\n",
    "    print(\"L'élément a été correctement ajouté. ✅\")\n",
    "    return liste\n",
    "\n",
    "\n",
    "# TODO2 Retirer élément de la to do list\n",
    "\n",
    "\n",
    "def retirer_élément(liste) -> list:\n",
    "    choix = input(\"Quel élément voulez-vous retirer ?\")\n",
    "    if choix.isdigit():\n",
    "        choix = int(choix)\n",
    "        if choix <= len(liste):\n",
    "            liste.pop(choix - 1)\n",
    "    print(\"L'élément a été correctement retiré. ✅\")\n",
    "    return liste\n",
    "\n",
    "\n",
    "# TODO3 Afficher les éléments de la to do list\n",
    "\n",
    "\n",
    "def afficher_élément(liste) -> None:\n",
    "    idx = 1\n",
    "    print(\"Voici vos tâches à faire : 👇\")\n",
    "    for elmnt in liste:\n",
    "        print(f\"{idx}. {elmnt}\")\n",
    "        idx += 1\n",
    "\n",
    "\n",
    "# Code\n",
    "to_do_list()"
   ]
  },
  {
   "cell_type": "code",
   "execution_count": 51,
   "metadata": {
    "id": "ixKJ8w3Wvmuq"
   },
   "outputs": [],
   "source": [
    "##"
   ]
  },
  {
   "cell_type": "markdown",
   "metadata": {
    "id": "XdJvMT9xVoRS"
   },
   "source": [
    "# Bonus (Mandatory)\n",
    "\n",
    "\n"
   ]
  },
  {
   "cell_type": "markdown",
   "metadata": {
    "id": "94-12vgPXG10"
   },
   "source": [
    "## Github\n",
    "Pour soumettre votre travail: \n",
    "\n",
    "1.   Commit changes to a branch and push to [github](https://google.com)\n",
    "2.   Create pull request / merge request\n"
   ]
  }
 ],
 "metadata": {
  "colab": {
   "collapsed_sections": [
    "Y1g4EgT41MqJ",
    "SHsrGdy-5AZK",
    "W3BGjEYaf2UQ"
   ],
   "include_colab_link": true,
   "provenance": []
  },
  "kernelspec": {
   "display_name": "Python 3 (ipykernel)",
   "language": "python",
   "name": "python3"
  },
  "language_info": {
   "codemirror_mode": {
    "name": "ipython",
    "version": 3
   },
   "file_extension": ".py",
   "mimetype": "text/x-python",
   "name": "python",
   "nbconvert_exporter": "python",
   "pygments_lexer": "ipython3",
   "version": "3.9.13"
  }
 },
 "nbformat": 4,
 "nbformat_minor": 1
}
