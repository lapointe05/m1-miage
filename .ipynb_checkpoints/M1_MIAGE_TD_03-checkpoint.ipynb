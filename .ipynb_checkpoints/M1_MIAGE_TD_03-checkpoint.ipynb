{
 "cells": [
  {
   "cell_type": "markdown",
   "metadata": {
    "colab_type": "text",
    "id": "view-in-github"
   },
   "source": [
    "<a href=\"https://colab.research.google.com/github/lapointe05/m1-miage/blob/main/M1_MIAGE_TD_03.ipynb\" target=\"_parent\"><img src=\"https://colab.research.google.com/assets/colab-badge.svg\" alt=\"Open In Colab\"/></a>"
   ]
  },
  {
   "cell_type": "markdown",
   "metadata": {
    "id": "597Hu82gSNCZ"
   },
   "source": [
    "<img src=\"https://upload.wikimedia.org/wikipedia/fr/0/0b/Polytech_Lyon_logo.png\" alt=\"drawing\" height=\"200\"/>\n",
    "\n",
    "# Algorithmique Avancée & Programmation en Python\n",
    "---\n",
    "\n"
   ]
  },
  {
   "cell_type": "markdown",
   "metadata": {
    "id": "EA-XK862WiMt"
   },
   "source": [
    "# TD 03\n",
    "\n",
    "Intro aux traitement de données\n",
    "\n",
    "```python\n",
    "print(\"Hello, friend! It's been a while...\")\n",
    "```\n",
    " \n",
    "Elements à consulter:\n",
    "\n",
    "\n",
    "Doc                                   |             Link\n",
    "--------------------------------------|------------------------------------\n",
    "Python en 30 jours | [>link<](https://moncoachdata.com/courses/apprendre-python-en-30-jours/)\n",
    "Get started with pandas | [>link<](https://colab.research.google.com/notebooks/snippets/pandas.ipynb)"
   ]
  },
  {
   "cell_type": "markdown",
   "metadata": {
    "id": "Y1g4EgT41MqJ"
   },
   "source": [
    "## Intro\n",
    "\n",
    "Le premier bloc devrait toujours contenir les installs/imports dont on aura besoin pour le reste"
   ]
  },
  {
   "cell_type": "code",
   "execution_count": 2,
   "metadata": {
    "colab": {
     "base_uri": "https://localhost:8080/"
    },
    "id": "yjiE8c51VoT0",
    "outputId": "88029a55-7ea9-4945-f975-2bdea0d2be95"
   },
   "outputs": [],
   "source": [
    "# Installs\n",
    "!pip install emoji --quiet"
   ]
  },
  {
   "cell_type": "code",
   "execution_count": 3,
   "metadata": {
    "colab": {
     "base_uri": "https://localhost:8080/"
    },
    "id": "JhT-50uwz72F",
    "outputId": "3e6b6a89-5efe-4122-9274-710c2d526432"
   },
   "outputs": [
    {
     "name": "stdout",
     "output_type": "stream",
     "text": [
      "Python is awesome 👍\n"
     ]
    }
   ],
   "source": [
    "# Imports\n",
    "import os\n",
    "import json\n",
    "from random import randint\n",
    "# import pandas as pd\n",
    "# import numpy as np\n",
    "from getpass import getpass\n",
    "import emoji\n",
    "\n",
    "print(emoji.emojize('Python is awesome :thumbs_up:'))"
   ]
  },
  {
   "cell_type": "markdown",
   "metadata": {
    "id": "5jpD7nr9NrKR"
   },
   "source": [
    "##EX01\n",
    "\n",
    "### Révision boucles / compréhension de listes\n",
    "\n",
    "Avec l'usage de la boucle `for`, répondez aux questions ci-dessous\n",
    "\n",
    "\n",
    "> PS: Code pris et modifié à partir d'exo sur github"
   ]
  },
  {
   "cell_type": "code",
   "execution_count": 4,
   "metadata": {
    "id": "8p4JXCtEyQBX"
   },
   "outputs": [
    {
     "name": "stdout",
     "output_type": "stream",
     "text": [
      "[44, 4, 38]\n",
      "[0, 1, 2, 3, 4, 5, 6, 7, 8, 9]\n",
      "[0, 2, 4, 6, 8]\n"
     ]
    }
   ],
   "source": [
    "##############################################################\n",
    "nombres = [1, 21, 5, 44, 4, 9, 5, 83, 29, 31, 25, 38]\n",
    "nombres_pairs = []\n",
    "\n",
    "for element in nombres:\n",
    "    if element % 2 == 0 :\n",
    "        nombres_pairs.append(element)\n",
    "print(nombres_pairs)\n",
    "\n",
    "##############################################################\n",
    "\n",
    "nombres = range(-10, 10)\n",
    "nombres_positifs = []\n",
    "\n",
    "if nombres:\n",
    "    for element in nombres :\n",
    "        if element >= 0:\n",
    "            nombres_positifs.append(element)\n",
    "print(nombres_positifs)\n",
    "\n",
    "##############################################################\n",
    "\n",
    "nombres = range(5)\n",
    "nombres_x2 = []\n",
    "\n",
    "for element in nombres:\n",
    "        nombres_x2.append(element*2)\n",
    "print(nombres_x2)"
   ]
  },
  {
   "cell_type": "markdown",
   "metadata": {
    "id": "BQBEhammPFtE"
   },
   "source": [
    "### PART 2\n",
    "Changez le code ci-dessus, et remplacez les blocs `for` par des [compréhensions de listes](https://duckduckgo.com/?q=list+comprehension+python)"
   ]
  },
  {
   "cell_type": "code",
   "execution_count": null,
   "metadata": {
    "id": "zlMvZFGcPEAG"
   },
   "outputs": [],
   "source": [
    "nombres = [1, 21, 5, 44, 4, 9, 5, 83, 29, 31, 25, 38]\n",
    "nombres_pairs = [element for element in nombres if element % 2 == 0]\n",
    "print(nombres_pairs)\n",
    "\n",
    "nombres = range(-10, 10)\n",
    "nombres_positifs = [element for element in nombres if element >= 0 ]\n",
    "print(nombres_positifs)\n",
    "\n",
    "nombres = range(5)\n",
    "nombres_x2 = [ element*2 for element in nombres]\n",
    "print(nombres_x2)"
   ]
  },
  {
   "cell_type": "markdown",
   "metadata": {
    "id": "cN_XcFu1dG5V"
   },
   "source": [
    "##EX02\n",
    "### Les sets\n",
    "\n",
    "  1. Créez un `set` vide et attribuez-le à une variable.\n",
    "  2. Ajoutez trois éléments à votre ensemble vide en utilisant soit plusieurs appels `add`, soit un seul appel de `update`.\n",
    "\n",
    "  3. Créez un deuxième `set` qui comprend au moins un élément commun avec le premier ensemble.\n",
    "\n",
    "  4. Trouvez l’union, la différence et l’intersection des deux `set`. >>\n",
    "Imprimez les résultats de chaque opération.\n",
    "\n",
    "  5. Créez une `set` de nombres en utilisant `range()`, puis demandez à l’utilisateur d’entrer un nombre. Indiquez à l’utilisateur si son nombre se situe ou non dans la plage de valeurs que vous avez spécifiée.\n",
    "\n",
    ">Bonus: \n",
    ">>Indiquer à l’utilisateur si son nombre était trop élevé ou trop bas."
   ]
  },
  {
   "cell_type": "code",
   "execution_count": null,
   "metadata": {
    "id": "yzbCm94SwV6g"
   },
   "outputs": [],
   "source": [
    "# Code here\n",
    "# ** 1 ** \n",
    "x = set()\n",
    "\n",
    "# ** 2 **\n",
    "y = {\"MASTER\", \"MIAGE\", \"POLYTECH\"}\n",
    "x.update(y)\n",
    "print(x)\n",
    "\n",
    "# ** 3 **\n",
    "z = { \"MASTER\" \"MASTER1\", \"CLAUDE\", \"BERNARD\", \"MIAGE\"}\n",
    "\n",
    "# ** 4 **\n",
    "\n",
    "t = y.union(z)\n",
    "print(\"le set t devient :\",t)\n",
    "u = y.difference(z) \n",
    "print(\"le set u devient :\",u)\n",
    "w = y.intersection(z)\n",
    "print(\"le set w devient :\",w)\n",
    "\n",
    "# ** 5 **\n",
    "\n",
    "nbset = set(range(0,1000))\n",
    "\n",
    "nbr = input(\"entrez un nombre positif svp : \")\n",
    "\n",
    "resultat = int (nbr)\n",
    "\n",
    "if resultat in nbset :\n",
    "    print(\"oui, vous êtes dans la plage\")   \n",
    "else :\n",
    "    print(\"vous êtes hors plage\")\n",
    "    \n",
    "    \n"
   ]
  },
  {
   "cell_type": "markdown",
   "metadata": {
    "id": "SHsrGdy-5AZK"
   },
   "source": [
    "## EX03\n",
    "### Revision listes\n",
    "1. Créez une liste de séries (`binge_watch_list`) contenant un seul tuple. Le tuple doit contenir le titre de la série, la plateforme de streaming (légal), le nombre d'épisodes de la série, l'année de sortie et une note /10.\n",
    "\n",
    "2. Créez une fonction (`input_series`) qui receuil des informations sur d'autres séries à l'aide de la fonction native `input`. Et nous retourne un tuple. \\n\n",
    "Tout les champs sont obligatoires.\n",
    "\n",
    "4. Utilisez `f-string` pour imprimer le nom et l’année de sortie de la série qu'on vient d'input.\n",
    "\n",
    "3. Alimenter la liste (`binge_watch_list`) avec le retour de la fonction (`input_series`) \\n\n",
    "Assurez vous que l'ordre des champs soit le même que dans (`binge_watch_list`).\n",
    "\n",
    "\n",
    "5. Afficher le nom et l’année de sortie de toutes les séries dans `binge_watch_list`.\n",
    "\n",
    "> Bonus:\n",
    "\n",
    "6. Supprimez la série la moins bien noté de `binge_watch_list`. Utilisez la méthode de votre choix."
   ]
  },
  {
   "cell_type": "code",
   "execution_count": null,
   "metadata": {},
   "outputs": [],
   "source": [
    "# Code here\n",
    "# ** 1 **\n",
    "binge_watch_list = (\n",
    "                    (\"Manifest\", \"Netflix\", \"52\", \"2018\", \"8\" ),\n",
    "                    (\"Blacklist\", \"Netflix\", \"196\",\"2013\", \"7\"),\n",
    "                    (\"Hunter X Hunter\", \"Netflix\",\"148\",\"1998\",\"10\")\n",
    "                   )\n",
    "print(binge_watch_list)\n",
    "\n",
    "# ** 2 ** \n",
    "\n",
    "def input_series ():\n",
    "    titre_serie = input(\"Veuillez entrer le titre de la série : \")\n",
    "    plateforme = input(\"Veuillez entrer la plate forme de streaming : \")\n",
    "    nb_episode = input(\"Veuillez entrer le nombre d'épisode de la série : \")\n",
    "    annee = input(\"Veuillez entrer l'année de sortie : \")\n",
    "    note_sur_dix = input(\"Veuillez une note sur 10 : \")\n",
    "    new_serie = (titre_serie, plateforme, nb_episode, annee, note_sur_dix)\n",
    "    print(\"La nouvelle serie est : \", new_serie)\n",
    "\n",
    "# ** 3 **    \n",
    "    print(f\"nom : {titre_serie}, année de sortie : {annee}\")\n",
    "    return new_serie\n",
    "    \n",
    "res = input_series()\n",
    "\n",
    "# ** 4 **\n",
    "x = list (binge_watch_list)\n",
    "x.insert(len(x),res)\n",
    "print(x)\n",
    "tl = tuple(x)\n",
    "print(tl)\n",
    "\n",
    "# ** 5 **\n",
    "\n",
    "for i in tl:\n",
    "    titre_serie = i[0]\n",
    "    annee = i[3]\n",
    "    print(f\"le nom de serie est : {titre_serie}, année est :  {annee}\")\n"
   ]
  },
  {
   "cell_type": "raw",
   "metadata": {
    "id": "-Zrebyjbxb89"
   },
   "source": [
    "Transformer le code ci-dessous de liste a dictionnaire"
   ]
  },
  {
   "cell_type": "code",
   "execution_count": null,
   "metadata": {
    "id": "wqwmWD1HxfKF"
   },
   "outputs": [],
   "source": []
  },
  {
   "cell_type": "markdown",
   "metadata": {
    "id": "W3BGjEYaf2UQ"
   },
   "source": [
    "## EX04\n",
    "### Révision strings / fonctions\n",
    "Implementer deux fonctions `input_password()` & `password_check(x)` qui :\n",
    "\n",
    "1. `input_password()` fait:\n",
    "    * Demande à l'utilisateur un mot de passe d'au moins 8 caractères, 12 c'est mieux.\n",
    "    * retourne ce dernier\n",
    "\n",
    "2. `password_check(x)` verifie:\n",
    "\n",
    "    * print `mot de passe trop court!` **avec une majuscule sur la première lettre** si la longueur du mot de passe entré est `plus petite que 8`.\n",
    "\n",
    "    * Verifier que le mot de passe soit une combinaison de `lettres majuscules, de lettres minuscules, de chiffres et de symboles.` \n",
    "    > Si le mot de passe manque de répondre à une condition, l'afficher à l'utilisateur\n",
    "\n",
    "    *  Afficher la phrase `\"Mot de passe valide.\"` si le mot de passe répond à **toutes les conditions**.\n",
    "\n",
    "> bonus \n",
    "\n",
    "* Verifier qu'un même mot de passe ne peut pas etre saisie deux fois, ex. utiliser une variable `previous_password`"
   ]
  },
  {
   "cell_type": "code",
   "execution_count": null,
   "metadata": {
    "colab": {
     "base_uri": "https://localhost:8080/",
     "height": 53
    },
    "id": "FS2OxAtBf1tB",
    "outputId": "c29ca3c4-258f-4a5f-9496-ef14df6508aa",
    "scrolled": true
   },
   "outputs": [],
   "source": [
    "# Start from this\n",
    "p = getpass(\"Phrase d'input: \")\n",
    "p\n",
    "\n",
    "def input_password() :\n",
    "    if len(p)<8 :\n",
    "        print(\"mot de passe trop court\")\n",
    "    return p\n",
    "\n",
    "#input_password() \n",
    "    \n",
    "def check_password(mdp) :\n",
    "    if p[0].isupper() == False:\n",
    "        print (\"Absence de majuscule au début \")\n",
    "        for i in p :\n",
    "            if len(p)<8 :\n",
    "                print(\"mot de passe trop court\")\n",
    "                break   \n",
    "            # On verifie les minuscules\n",
    "            if i.isalpha() == False :\n",
    "                print(\"Pas de minuscule dans votre mot de passe\")\n",
    "                break\n",
    "            # On verifie les chiffres\n",
    "            if i.isdigit() == False :\n",
    "                print(\"Pas de chiffre dans votre mot de passe\")\n",
    "                break\n",
    "            # On verifie les caractères spéciaux\n",
    "            if i == '*' | i == '#' | i == '$' | i == '_' | i == '-' | i == '@' & len(p) >= 8 :\n",
    "                print(\"mot de passe valide\")\n",
    "                break\n",
    "            else :\n",
    "                print (\"mot de passe invalide\")\n",
    "    return p\n",
    "check_password(p)        "
   ]
  },
  {
   "cell_type": "markdown",
   "metadata": {
    "id": "nu6wbxZnc2vL"
   },
   "source": [
    "## EX05\n",
    "### To do list\n",
    "1. Créez une fonction (`to_do_list()`) qui demande à l'utilisateur de choisir parmis 5 options\n",
    "    1. Ajouter un élément à la to do list\n",
    "    2. Retirer un élément de la to do list\n",
    "    3. Afficher les éléments de la to do list\n",
    "    4. Vider la to do list\n",
    "    5. Quitter le programme\n",
    "2. L'utilisateur doit entrer un nombre (entre 1 et 5) pour choisir l'option souhaité \n",
    "    * Vous devez verifier que l'input est un nombre\n",
    "    * Vous devez verifier que l'input est entre 1 et 5\n",
    "\n",
    "3. Implementez chancune des options de la fonction 😃\n",
    "\n",
    "3. Exemple de run du code ci dessous 👇\n",
    "\n",
    "\n",
    "Entrer un nombre pour choisir parmis les options: \n",
    "\n",
    "  \t 1. Ajouter un élément à la to do list \n",
    "\n",
    "  \t 2. Retirer un élément de la to do list \n",
    "\n",
    "  \t 3. Afficher les éléments de la to do list \n",
    "\n",
    "  \t 4. Vider la to do list \n",
    "\n",
    "  \t 5. Quitter le programme \n",
    "\n",
    "-> 3\n",
    "\n",
    "  To do list: \n",
    "\n",
    "  \t 1. Nourrir le chat \n",
    "\n",
    "  \t 2. Préparer le cours de Python 👍 \n",
    "\n",
    "  \t 3. Manger \n",
    "\n",
    "  \t 4. Dormir "
   ]
  },
  {
   "cell_type": "code",
   "execution_count": 1,
   "metadata": {
    "colab": {
     "base_uri": "https://localhost:8080/"
    },
    "id": "FqgwJj-2USlc",
    "outputId": "8161f044-f38d-449c-c745-51350373eb8c",
    "scrolled": true
   },
   "outputs": [
    {
     "name": "stdout",
     "output_type": "stream",
     "text": [
      "########################################## \n",
      "\n",
      "########## SELECTION DU MENU ############# \n",
      "\n",
      "########################################## \n",
      "\n",
      "1 .  Ajouter un élément à la to do list\n",
      "\n",
      "\n",
      "2 .  Retirer un élément de la to do list\n",
      "\n",
      "\n",
      "3 .  Afficher les éléments de la to do list\n",
      "\n",
      "\n",
      "4 .  Vider la to do list\n",
      "\n",
      "\n",
      "5 .  Quitter le programme\n",
      "\n",
      "\n",
      "saisir votre choix : 2\n",
      "0 . nourrir le chat\n",
      "1 . preparer le cours de python\n",
      "2 . Manger\n",
      "3 . Dormir\n",
      "saisir le numero de l'element à supprimer dans la liste 3\n",
      "0 nourrir le chat\n",
      "1 preparer le cours de python\n",
      "2 Manger\n"
     ]
    }
   ],
   "source": [
    "print(\"##########################################\",\"\\n\")\n",
    "print(\"########## SELECTION DU MENU #############\",\"\\n\")\n",
    "print(\"##########################################\",\"\\n\")\n",
    "\n",
    "def to_do_list():\n",
    "    \n",
    "    list_to_do = [ \"Ajouter un élément à la to do list\", \"Retirer un élément de la to do list\",\n",
    "                  \"Afficher les éléments de la to do list\",\"Vider la to do list\",\"Quitter le programme\"]\n",
    "    \n",
    "    list1 = [\"nourrir le chat\", \"preparer le cours de python\", \"Manger\", \"Dormir\"]\n",
    "    \n",
    "    for index, valeur in enumerate (list_to_do) :\n",
    "        print(index+1, \". \",valeur)\n",
    "        print(\"\\n\")    \n",
    "    \n",
    "     # on vérifie si le choix saisi est un chiffre ou pas  \n",
    "    c = True \n",
    "    while c:\n",
    "        choix = input(\"saisir votre choix : \")\n",
    "        if choix.isdigit():\n",
    "            c = False\n",
    "        else :\n",
    "            print(\"veuillez saisir un chiffre entre 1 et 5 \")\n",
    "    # On teste tous les choix de la to do liste\n",
    "    \n",
    "    if choix == \"1\":\n",
    "        ajout = input(\"Ajouter un element dans la liste\")\n",
    "        list1.insert(len(list1), ajout) # On ajoute l'élement à la fin de la liste\n",
    "        \n",
    "        #On réaffiche la liste avec l'element ajouté\n",
    "        for ind, val in enumerate (list1):\n",
    "            print(ind+1, \".\",val)\n",
    "            \n",
    "    elif choix == \"2\":\n",
    "        for ind, val in enumerate (list1):\n",
    "            print(ind,\".\", val)\n",
    "            \n",
    "        delete = int(input(\"saisir le numero de l'element à supprimer dans la liste \"))\n",
    "        \n",
    "        # Parcours la liste pour rechercher l'element à supprimer\n",
    "        \n",
    "        for ind, val in enumerate(list1):\n",
    "            if delete == ind:\n",
    "                list1.pop(ind)\n",
    "                \n",
    "                # Affiche la liste avec l'element en moins\n",
    "                for ind1,val1 in enumerate(list1):\n",
    "                    print(ind1,val1)\n",
    "        \n",
    "    elif choix == \"3\":\n",
    "        print(\"To do list: \\n\")\n",
    "        \n",
    "        # On affiche la to do liste \n",
    "        \n",
    "        for ind, val in enumerate (list1):\n",
    "            print(ind+1, val)\n",
    "            \n",
    "    elif choix == \"4\":\n",
    "        list1.clear()  # Supprime tous les elements de la liste\n",
    "        print(list1)\n",
    "        \n",
    "    elif choix == \"5\":\n",
    "        exit()\n",
    "                \n",
    "to_do_list() "
   ]
  },
  {
   "cell_type": "code",
   "execution_count": 5,
   "metadata": {
    "id": "ixKJ8w3Wvmuq"
   },
   "outputs": [
    {
     "name": "stderr",
     "output_type": "stream",
     "text": [
      "warning: LF will be replaced by CRLF in M1_MIAGE_TD_03.ipynb.\n",
      "The file will have its original line endings in your working directory\n",
      "warning: LF will be replaced by CRLF in .ipynb_checkpoints/M1_MIAGE_TD_03-checkpoint.ipynb.\n",
      "The file will have its original line endings in your working directory\n"
     ]
    }
   ],
   "source": [
    "##\n",
    "!git add ."
   ]
  },
  {
   "cell_type": "markdown",
   "metadata": {
    "id": "XdJvMT9xVoRS"
   },
   "source": [
    "# Bonus (Mandatory)\n",
    "\n",
    "\n"
   ]
  },
  {
   "cell_type": "markdown",
   "metadata": {
    "id": "94-12vgPXG10"
   },
   "source": [
    "## Github\n",
    "Pour soumettre votre travail: \n",
    "\n",
    "1.   Commit changes to a branch and push to [github](https://google.com)\n",
    "2.   Create pull request / merge request\n"
   ]
  }
 ],
 "metadata": {
  "colab": {
   "collapsed_sections": [
    "Y1g4EgT41MqJ",
    "SHsrGdy-5AZK",
    "W3BGjEYaf2UQ"
   ],
   "include_colab_link": true,
   "provenance": []
  },
  "kernelspec": {
   "display_name": "Python 3 (ipykernel)",
   "language": "python",
   "name": "python3"
  },
  "language_info": {
   "codemirror_mode": {
    "name": "ipython",
    "version": 3
   },
   "file_extension": ".py",
   "mimetype": "text/x-python",
   "name": "python",
   "nbconvert_exporter": "python",
   "pygments_lexer": "ipython3",
   "version": "3.9.13"
  }
 },
 "nbformat": 4,
 "nbformat_minor": 1
}
